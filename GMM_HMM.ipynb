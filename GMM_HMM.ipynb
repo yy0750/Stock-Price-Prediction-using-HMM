{
  "nbformat": 4,
  "nbformat_minor": 0,
  "metadata": {
    "colab": {
      "private_outputs": true,
      "provenance": [],
      "include_colab_link": true
    },
    "kernelspec": {
      "name": "python3",
      "display_name": "Python 3"
    },
    "language_info": {
      "name": "python"
    }
  },
  "cells": [
    {
      "cell_type": "markdown",
      "metadata": {
        "id": "view-in-github",
        "colab_type": "text"
      },
      "source": [
        "<a href=\"https://colab.research.google.com/github/yy0750/Stock-Price-Prediction-using-HMM/blob/main/GMM_HMM.ipynb\" target=\"_parent\"><img src=\"https://colab.research.google.com/assets/colab-badge.svg\" alt=\"Open In Colab\"/></a>"
      ]
    },
    {
      "cell_type": "code",
      "source": [
        "from google.colab import drive\n",
        "drive.mount('/content/drive')"
      ],
      "metadata": {
        "id": "IkTGtZajbUvV"
      },
      "execution_count": null,
      "outputs": []
    },
    {
      "cell_type": "markdown",
      "source": [
        "## Appendix A.1. Preparation for Model Construction/Modeling"
      ],
      "metadata": {
        "id": "PFDN8tF9RhgA"
      }
    },
    {
      "cell_type": "markdown",
      "source": [
        "#### Appendix A.1.1. Importing Necessary Modeules"
      ],
      "metadata": {
        "id": "q4R6l-WAR0OW"
      }
    },
    {
      "cell_type": "markdown",
      "source": [
        "##### install hmmlearn"
      ],
      "metadata": {
        "id": "3cABfzzb8q_h"
      }
    },
    {
      "cell_type": "code",
      "source": [
        "# hmmlearn 패키지 설치\n",
        "!pip install hmmlearn"
      ],
      "metadata": {
        "id": "kyxSSwJ36Mad"
      },
      "execution_count": null,
      "outputs": []
    },
    {
      "cell_type": "markdown",
      "source": [
        "##### Import library"
      ],
      "metadata": {
        "id": "NNClJjBo8hQf"
      }
    },
    {
      "cell_type": "code",
      "source": [
        "import numpy as np\n",
        "import pandas as pd\n",
        "import matplotlib.pyplot as plt\n",
        "import sklearn.metrics as metrics\n",
        "import yfinance as yf\n",
        "from hmmlearn import hmm\n",
        "from sklearn.cluster import KMeans\n",
        "from sklearn.preprocessing import StandardScaler\n",
        "from statsmodels.graphics.tsaplots import plot_acf, plot_pacf"
      ],
      "metadata": {
        "id": "Gsb6XCp9EaZL"
      },
      "execution_count": null,
      "outputs": []
    },
    {
      "cell_type": "code",
      "source": [
        "# 시작 날짜와 종료 날짜 설정\n",
        "start_date = '2021-12-10'\n",
        "end_date = '2023-11-17'\n",
        "\n",
        "# 주식 코드 설정 (삼성전자 - '005930.KS', Sk하이닉스 - '00660.KS')\n",
        "stock_code = '005930.KS'\n",
        "\n",
        "# Yahoo Finance에서 주식 데이터 다운\n",
        "df = yf.download(stock_code, start=start_date, end=end_date)\n",
        "\n",
        "# 데이터프레임 인덱스 재설정\n",
        "df.reset_index(inplace=True)\n",
        "\n",
        "# 'ID' 열을 데이터프레임의 첫 번째 열로 추가\n",
        "df.insert(0, 'ID', df.index)\n",
        "\n",
        "# 'Adj Close' 열 삭제\n",
        "df.drop('Adj Close', axis=1, inplace=True)"
      ],
      "metadata": {
        "id": "TTCnf8Tm5Dhm"
      },
      "execution_count": null,
      "outputs": []
    },
    {
      "cell_type": "markdown",
      "source": [
        "### Appendix A.1.3 Data formatting and Normalization"
      ],
      "metadata": {
        "id": "LGsLgzUQR7Rm"
      }
    },
    {
      "cell_type": "code",
      "source": [
        "# 'Avg' 열 추가\n",
        "df['Avg'] = pd.Series([((row.Open + row.High + row.Low + row.Close) / 4) for index, row in df.iterrows()])\n",
        "\n",
        "# 'Date' 열의 데이터 형식을 날짜로 변환\n",
        "df['Date'] = pd.to_datetime(df['Date'], format='%m/%d/%Y')\n",
        "\n",
        "# 데이터프레임에서 'ID'와 'Avg' 열을 선택\n",
        "X = df.values[:, [0, 7]]\n",
        "\n",
        "# NaN을 0으로 대체\n",
        "X = np.nan_to_num(X)\n",
        "\n",
        "# 데이터를 표준화\n",
        "X = StandardScaler().fit_transform(X)"
      ],
      "metadata": {
        "id": "pe-a6UlQSbIs"
      },
      "execution_count": null,
      "outputs": []
    },
    {
      "cell_type": "markdown",
      "source": [
        "#### Appendix A.1.4 Clustering\n",
        "###### K-Means Clustering\n",
        "###### Preliminary Clustering"
      ],
      "metadata": {
        "id": "qgOcLTpSSbek"
      }
    },
    {
      "cell_type": "code",
      "execution_count": null,
      "metadata": {
        "id": "78I0gZlu5xIG"
      },
      "outputs": [],
      "source": [
        "# 클러스터 개수 설정\n",
        "clusterNum = 3\n",
        "\n",
        "# K-평균 클러스터링, n_clusters=clusterNum 클러스터 개수를 3으로 설정, n_init=12: 12번의 다른 초기화를 실행\n",
        "k_means = KMeans(init='k-means++', n_clusters=clusterNum, n_init=12)\n",
        "k_means.fit(X)\n",
        "\n",
        "# 각 데이터 포인트의 클러스터 레이블을 labels 변수에 저장\n",
        "labels = k_means.labels_\n",
        "\n",
        "# 데이터프레임에 'State' 열을 추가\n",
        "df['State'] = labels\n",
        "\n",
        "# 클러스터링 결과를 산점도로 시각화\n",
        "plt.scatter(X[:, 0], X[:, 1], c=labels.astype(np.float64), alpha=0.5)\n",
        "plt.xlabel('S.no')  # x축 레이블 설정\n",
        "plt.ylabel('Price')  # y축 레이블 설정\n"
      ]
    },
    {
      "cell_type": "markdown",
      "source": [
        "##### Calculates  the mean and covariance for each cluster\n"
      ],
      "metadata": {
        "id": "pV2BLdSzE7oG"
      }
    },
    {
      "cell_type": "code",
      "source": [
        "pre_means = []\n",
        "pre_covars = []\n",
        "\n",
        "for i in [0, 1, 2]:\n",
        "    tdf = df[df.State == i]\n",
        "\n",
        "    # 평균 계산\n",
        "    pre_means.append(tdf['Avg'].sum() / tdf['Avg'].count())\n",
        "\n",
        "    # 분산 계산\n",
        "    pre_covars.append(tdf['Avg'].std() ** 2)"
      ],
      "metadata": {
        "id": "T9hNuOzFWGKO"
      },
      "execution_count": null,
      "outputs": []
    },
    {
      "cell_type": "code",
      "source": [
        "# # 'Avg' 열의 데이터를 numpy 배열로 변환하고 NaN 값을 제거한 후 1열 형태로 변경\n",
        "# data = np.array(df['Avg'].dropna()).reshape(-1, 1)\n",
        "\n",
        "# subclusters = {}\n",
        "\n",
        "# # 고유한 클러스터 각각에 대해 반복문 실행\n",
        "# for cluster_id in np.unique(labels):\n",
        "#     # 해당 클러스터에 속하는 데이터를 선택\n",
        "#     cluster_data = data[labels == cluster_id]\n",
        "\n",
        "#     # 클러스터 내 데이터의 평균을 계산\n",
        "#     cluster_mean = np.mean(cluster_data, axis=0)\n",
        "\n",
        "#     # 클러스터 내 데이터의 공분산을 계산\n",
        "#     cluster_covariance = np.cov(cluster_data, rowvar=False)\n",
        "\n",
        "#     # 클러스터 평균과 공분산을 딕셔너리에 저장\n",
        "#     subclusters[cluster_id] = {\n",
        "#         'means': cluster_mean,\n",
        "#         'covariances': cluster_covariance\n",
        "#     }\n",
        "\n",
        "# # 각 클러스터의 평균과 공분산을 저장\n",
        "# pre_means = np.empty(3)\n",
        "# pre_means[0] = subclusters[0]['means']\n",
        "# pre_means[1] = subclusters[1]['means']\n",
        "# pre_means[2] = subclusters[2]['means']\n",
        "\n",
        "# pre_covars = np.empty(3)\n",
        "# pre_covars[0] = subclusters[0]['covariances']\n",
        "# pre_covars[1] = subclusters[1]['covariances']\n",
        "# pre_covars[2] = subclusters[2]['covariances']\n"
      ],
      "metadata": {
        "id": "GRsX2K_ra7f9"
      },
      "execution_count": null,
      "outputs": []
    },
    {
      "cell_type": "markdown",
      "source": [
        "##### Clustering the log-likelihoods\n"
      ],
      "metadata": {
        "id": "Q6hgQCnSTceN"
      }
    },
    {
      "cell_type": "code",
      "source": [
        "# 'Avg' 열을 리스트로 변환\n",
        "pre_prices = df['Avg'].tolist()\n",
        "\n",
        "# 로그 우도를 저장할 리스트를 초기화\n",
        "pre_training_ll = [np.nan] * len(pre_prices)\n",
        "\n",
        "\n",
        "for i in range(3, len(pre_prices)):\n",
        "    print('Datapoint: ', i)\n",
        "\n",
        "    # GMM-HMM 모델 초기화\n",
        "    pre_model = hmm.GMMHMM(n_components=3, n_mix=1, n_iter=100, covariance_type='diag', init_params='')\n",
        "\n",
        "    # 모델의 초기 파라미터 값을 설정\n",
        "    pre_model.startprob_ = np.array([1/3, 1/3, 1/3])\n",
        "    pre_model.transmat_ = np.array([[1/3, 1/3, 1/3], [1/3, 1/3, 1/3], [1/3, 1/3, 1/3]])\n",
        "    pre_model.means_ = np.array([pre_means[0], pre_means[1], pre_means[2]]).reshape(3, 1)\n",
        "    pre_model.covars_ = np.array([pre_covars[0], pre_covars[1], pre_covars[2]]).reshape(3, 1)\n",
        "    pre_model.weights_ = np.array([1, 1, 1]).reshape(3, 1)\n",
        "\n",
        "    # 최근 4일치 주가 데이터를 가져와서 배열 형태로 변환\n",
        "    X = np.array(pre_prices[max(i-4, 0):i]).reshape(i - max(i-4, 0), 1)\n",
        "\n",
        "    # NaN을 0으로 대체\n",
        "    X = np.nan_to_num(X)\n",
        "\n",
        "    # 모델 훈련\n",
        "    try:\n",
        "        pre_model.fit(X)\n",
        "    except ValueError:\n",
        "        continue\n",
        "\n",
        "    # 훈련 로그 우도를 리스트에 저장합니다.\n",
        "    pre_training_ll[i] = pre_model.monitor_.history[0]\n",
        "\n",
        "# 데이터프레임에 'pre_ll' 열을 추가하여 로그 우도를 저장\n",
        "df['pre_ll'] = np.nan_to_num(pre_training_ll)\n"
      ],
      "metadata": {
        "id": "VIbPtRTF8ZRK"
      },
      "execution_count": null,
      "outputs": []
    },
    {
      "cell_type": "markdown",
      "source": [
        "##### Refining the clusters (Clustering the log_likelihoods):"
      ],
      "metadata": {
        "id": "nTE_eTEbTiWQ"
      }
    },
    {
      "cell_type": "code",
      "source": [
        "# 데이터프레임에서 'ID'와 'Avg' 열을 선택\n",
        "X = df.values[:, [0, 9]]\n",
        "\n",
        "# NaN을 0으로 대체\n",
        "X = np.nan_to_num(X)\n",
        "\n",
        "# 표준화\n",
        "X = StandardScaler().fit_transform(X)\n",
        "\n",
        "\n",
        "# 클러스터의 개수 설정\n",
        "clusterNum = 3\n",
        "\n",
        "# K-평균 클러스터링, n_clusters=clusterNum 클러스터 개수를 3으로 설정, n_init=12: 12번의 다른 초기화를 실행\n",
        "k_means = KMeans(init='k-means++', n_clusters=clusterNum, n_init=12)\n",
        "k_means.fit(X)\n",
        "\n",
        "# 각 데이터 포인트의 클러스터 레이블을 labels 변수에 저장\n",
        "labels = k_means.labels_\n",
        "\n",
        "# 데이터프레임에 'State' 열을 추가\n",
        "df['State'] = labels\n",
        "\n",
        "\n",
        "# 클러스터링 결과를 산점도로 시각화\n",
        "plt.scatter(df['ID'], df['Avg'], c=df['State'].astype(np.float64), alpha=0.5)\n",
        "plt.xlabel('S.no')  # x축 레이블 설정\n",
        "plt.ylabel('Price')  # y축 레이블 설정\n"
      ],
      "metadata": {
        "id": "SL-UfGl7Cg4k"
      },
      "execution_count": null,
      "outputs": []
    },
    {
      "cell_type": "markdown",
      "source": [
        "## Appendix A.2. Model Construction/Modeling\n"
      ],
      "metadata": {
        "id": "1mWPACy2UFSI"
      }
    },
    {
      "cell_type": "markdown",
      "source": [
        "#### Appendix A.2.1 Mixture Model\n",
        "##### Low Economy"
      ],
      "metadata": {
        "id": "obkcVgkQUSFT"
      }
    },
    {
      "cell_type": "code",
      "source": [
        "# 'State' 열 값이 0인 행들로 이루어진 데이터프레임을 생성\n",
        "low_df = df[df.State == 0]\n",
        "\n",
        "\n",
        "# 데이터프레임의 인덱스를 재설정\n",
        "low_df.reset_index(inplace=True)\n",
        "\n",
        "# 'ID' 열을 삭제\n",
        "low_df.drop(['ID'], axis=1, inplace=True)\n",
        "\n",
        "# low_df의 인덱스 값을 할당\n",
        "low_df['ID'] = low_df.index\n",
        "\n",
        "\n",
        "# 클러스터링에 사용할 데이터를 선택\n",
        "X = low_df.values[:, [10, 7]]\n",
        "\n",
        "# NaN을 0으로 대체\n",
        "X = np.nan_to_num(X)\n",
        "\n",
        "# 표준화\n",
        "X = StandardScaler().fit_transform(X)\n",
        "\n",
        "\n",
        "# 클러스터의 개수 설정\n",
        "clusterNum = 2\n",
        "\n",
        "low_k_means = KMeans(init='k-means++', n_clusters=clusterNum, n_init=12)\n",
        "low_k_means.fit(X)\n",
        "\n",
        "labels = low_k_means.labels_\n",
        "\n",
        "# 데이터프레임에 'Mix' 열을 추가하여 클러스터 레이블을 저장\n",
        "low_df['Mix'] = labels\n",
        "\n",
        "\n",
        "# 클러스터링 결과를 산점도로 시각화\n",
        "plt.scatter(X[:, 0], X[:, 1], c=labels.astype(np.float64), alpha=0.5)\n",
        "plt.xlabel('S.no')  # x축 레이블 설정\n",
        "plt.ylabel('Price')  # y축 레이블 설정\n",
        "\n",
        "\n",
        "# 각 클러스터에 대한 평균, 분산, 가중치를 계산\n",
        "low_means = []\n",
        "low_covars = []\n",
        "low_weights = []\n",
        "\n",
        "for i in [0, 1]:\n",
        "    tdf = low_df[low_df.Mix == i]\n",
        "\n",
        "    # 평균 계산\n",
        "    low_means.append(tdf['Avg'].sum() / tdf['Avg'].count())\n",
        "\n",
        "    # 분산 계산\n",
        "    low_covars.append(tdf['Avg'].std() ** 2)\n",
        "\n",
        "    # 가중치 계산\n",
        "    tdf = low_df[low_df.Mix == 0]\n",
        "    low_weights.append(tdf['Avg'].count() / low_df['Avg'].count())\n",
        "    low_weights.append(1 - low_weights[0])\n"
      ],
      "metadata": {
        "id": "Ub-3ie6ACw-6"
      },
      "execution_count": null,
      "outputs": []
    },
    {
      "cell_type": "code",
      "source": [
        "# print(\"Low Economy\")\n",
        "# print(low_means)\n",
        "# print(low_covars)\n",
        "# print(low_weights, end='\\n\\n')\n",
        "\n",
        "# print(\"Medium Economy\")\n",
        "# print(medium_means)\n",
        "# print(medium_covars)\n",
        "# print(medium_weights, end='\\n\\n')\n",
        "\n",
        "# print(\"High Economy\")\n",
        "# print(high_means)\n",
        "# print(high_covars)\n",
        "# print(high_weights)\n",
        "\n"
      ],
      "metadata": {
        "id": "En_oi8lYmScx"
      },
      "execution_count": null,
      "outputs": []
    },
    {
      "cell_type": "markdown",
      "source": [
        "##### Medium Economy"
      ],
      "metadata": {
        "id": "_RNzbUapUcID"
      }
    },
    {
      "cell_type": "code",
      "source": [
        "medium_df = df[df.State == 2]\n",
        "\n",
        "medium_df.reset_index(inplace=True)\n",
        "medium_df.drop(['ID'], axis=1, inplace=True)\n",
        "medium_df['ID'] = medium_df.index\n",
        "\n",
        "X = medium_df.values[:, [10, 7]]\n",
        "X = np.nan_to_num(X)\n",
        "X = StandardScaler().fit_transform(X)\n",
        "\n",
        "clusterNum = 2\n",
        "medium_k_means = KMeans(init='k-means++', n_clusters=clusterNum, n_init=12)\n",
        "medium_k_means.fit(X)\n",
        "labels = medium_k_means.labels_\n",
        "medium_df['Mix'] = labels\n",
        "\n",
        "plt.scatter(X[:, 0], X[:, 1], c=labels.astype(np.float64), alpha=0.5)\n",
        "plt.xlabel('S.no')\n",
        "plt.ylabel('Price')\n",
        "\n",
        "medium_means = []\n",
        "medium_covars = []\n",
        "medium_weights = []\n",
        "\n",
        "for i in [0, 1]:\n",
        "    tdf = medium_df[medium_df.Mix == i]\n",
        "\n",
        "    #Mean\n",
        "    medium_means.append(tdf['Avg'].sum() / tdf['Avg'].count())\n",
        "\n",
        "    #Variance\n",
        "    medium_covars.append(tdf['Avg'].std() ** 2)\n",
        "\n",
        "    #Weights\n",
        "    tdf = medium_df[medium_df.Mix == 0]\n",
        "    medium_weights.append(tdf['Avg'].count() / medium_df['Avg'].count())\n",
        "    medium_weights.append(1 - medium_weights[0])"
      ],
      "metadata": {
        "id": "oBLvbCfS992v"
      },
      "execution_count": null,
      "outputs": []
    },
    {
      "cell_type": "markdown",
      "source": [
        "##### High Economy"
      ],
      "metadata": {
        "id": "yrx1hSHyUfmx"
      }
    },
    {
      "cell_type": "code",
      "source": [
        "# 'State' 열 값이 1인 행들로 이루어진 데이터프레임을 생성\n",
        "high_df = df[df.State == 1]\n",
        "\n",
        "\n",
        "# 데이터프레임의 인덱스를 재설정\n",
        "high_df.reset_index(inplace=True)\n",
        "\n",
        "# 'ID' 열을 삭제\n",
        "high_df.drop(['ID'], axis=1, inplace=True)\n",
        "\n",
        "# high_df의 인덱스 값을 할당\n",
        "high_df['ID'] = high_df.index\n",
        "\n",
        "\n",
        "# 클러스터링에 사용할 데이터를 선택\n",
        "X = high_df.values[:, [10, 7]]\n",
        "\n",
        "# NaN을 0으로 대체\n",
        "X = np.nan_to_num(X)\n",
        "\n",
        "# 표준화\n",
        "X = StandardScaler().fit_transform(X)\n",
        "\n",
        "\n",
        "# 클러스터의 개수를 설정\n",
        "clusterNum = 2\n",
        "\n",
        "# K-Means 클러스터링 모델을 초기화하고 데이터에 적합\n",
        "high_K_means = KMeans(init='k-means++', n_clusters=clusterNum, n_init=12)\n",
        "high_K_means.fit(X)\n",
        "\n",
        "labels = high_K_means.labels_\n",
        "\n",
        "high_df['Mix'] = labels\n",
        "\n",
        "\n",
        "# 클러스터링 결과를 산점도로 시각화\n",
        "plt.scatter(X[:, 0], X[:, 1], c=labels.astype(np.float64), alpha=0.5)\n",
        "plt.xlabel('S.no')  # x축 레이블 설정\n",
        "plt.ylabel('Price')  # y축 레이블 설정\n",
        "\n",
        "\n",
        "# 각 클러스터에 대한 평균, 분산, 가중치 계산\n",
        "high_means = []\n",
        "high_covars = []\n",
        "high_weights = []\n",
        "\n",
        "for i in [0, 1]:\n",
        "    tdf = high_df[high_df.Mix == i]\n",
        "\n",
        "    # 평균 계산\n",
        "    high_means.append(tdf['Avg'].sum() / tdf['Avg'].count())\n",
        "\n",
        "    # 분산 계산\n",
        "    high_covars.append(tdf['Avg'].std() ** 2)\n",
        "\n",
        "    # 가중치 계산\n",
        "    tdf = high_df[high_df.Mix == 0]\n",
        "    high_weights.append(tdf['Avg'].count() / high_df['Avg'].count())\n",
        "    high_weights.append(1 - high_weights[0])\n"
      ],
      "metadata": {
        "id": "RTIGF_HUDWpA"
      },
      "execution_count": null,
      "outputs": []
    },
    {
      "cell_type": "markdown",
      "source": [
        "#### Appendix A.2.2 HMM Training and Testing"
      ],
      "metadata": {
        "id": "5wd58EH2UkK8"
      }
    },
    {
      "cell_type": "code",
      "source": [
        "# 'Close' 열을 리스트로 변환\n",
        "prices = df['Close'].tolist()\n",
        "\n",
        "# prices의 길이와 동일한 길이로 초기화\n",
        "training_ll = [None] * len(prices)\n",
        "lls = [None] * len(prices)\n",
        "\n",
        "# 미래의 가격 예측을 위해 prices의 길이보다 하나 더 긴 길이로 초기화\n",
        "predicted_prices = [None] * (len(prices) + 1)\n",
        "\n",
        "# 엡실론 값과 현재 로그 우도 값 설정\n",
        "epsilon = 0.2\n",
        "curr_ll = 0\n",
        "\n",
        "for i in range(3, len(prices)):\n",
        "    print('Datapoint: ', i)\n",
        "\n",
        "    # GMM-HMM 모델 초기화\n",
        "    model = hmm.GMMHMM(n_components=3, n_mix=2, n_iter=100, covariance_type='diag', init_params='')\n",
        "\n",
        "    # 모델의 초기 파라미터 값을 설정\n",
        "    model.startprob_ = np.array([1/3, 1/3, 1/3])\n",
        "    model.transmat_ = np.array([[1/3, 1/3, 1/3], [1/3, 1/3, 1/3], [1/3, 1/3, 1/3]])\n",
        "\n",
        "    # 클러스터별 평균, 분산, 가중치 값을 설정\n",
        "    model.means_ = np.array([[medium_means[0], medium_means[1]], [high_means[0], high_means[1]], [low_means[0], low_means[1]]]).reshape(3, 2, 1)\n",
        "    model.covars_ = np.array([[medium_covars[0], medium_covars[1]], [high_covars[0], high_covars[1]], [low_covars[0], low_covars[1]]]).reshape(3, 2, 1)\n",
        "    model.weights_ = np.array([[medium_weights[0], medium_weights[1]], [high_weights[0], high_weights[1]], [low_weights[0], low_weights[1]]])\n",
        "\n",
        "    # 최근 4일치 종가 데이터를 가져와서 배열 형태로 변환\n",
        "    X = np.array(prices[max(i-4, 0):i]).reshape(i - max(i-4, 0), 1)\n",
        "\n",
        "    # NaN을 0으로 대체\n",
        "    X = np.nan_to_num(X)\n",
        "\n",
        "    # 모델 훈련\n",
        "    try:\n",
        "        model.fit(X)\n",
        "\n",
        "    # 값 오류가 발생하면 예외 처리\n",
        "    except ValueError:\n",
        "        pass\n",
        "\n",
        "    # 로그 우도의 배열을 생성\n",
        "    ll_arr = np.array(model.monitor_.history)\n",
        "    # NaN 값 제거\n",
        "    ll_arr = ll_arr[~np.isnan(ll_arr)]\n",
        "\n",
        "    # 로그 우도 계산\n",
        "    try:\n",
        "        #curr_ll = ll_arr[0]  # 첫 번째 반복\n",
        "        #curr_ll = np.median(ll_arr)  # 중간 반복\n",
        "        curr_ll = ll_arr[-1]  # 마지막 반복\n",
        "\n",
        "    # 값 오류가 발생하면 예외 처리\n",
        "    except ValueError:\n",
        "        pass\n",
        "\n",
        "    lls[i] = curr_ll\n",
        "\n",
        "    # # i가 427 지점 이후부터 수행 예측 수행\n",
        "    if i > 427:\n",
        "\n",
        "        # 차이 값 변수 생성\n",
        "        diff = []\n",
        "\n",
        "        #  3부터 i까지의 범위에 대해 반복\n",
        "        for j in range(3, i):\n",
        "\n",
        "            #lls 배열의 j번째 요소가 None이 아닐 때만 내부의 코드를 실행\n",
        "            if lls[j] is not None:\n",
        "\n",
        "                # lls[j] 값이 curr_ll +- 엡실론 범위일 경우\n",
        "                if lls[j] < (curr_ll + epsilon) and lls[j] > (curr_ll - epsilon):\n",
        "\n",
        "                    # prices 배열의 연속된 값의 차이를 계산하여 diff 리스트에 추가\n",
        "                    diff.append(prices[j+1] - prices[j])\n",
        "\n",
        "        if len(diff) > 0:\n",
        "            min_diff = diff[np.argmin(np.abs(diff))]\n",
        "            predicted_prices[i+1] = prices[i] + min_diff\n",
        "\n",
        "# 데이터프레임에 'PredictedPrices' 열을 추가\n",
        "df['PredictedPrices'] = pd.Series(predicted_prices)\n"
      ],
      "metadata": {
        "id": "vWuF3EgM-SvG"
      },
      "execution_count": null,
      "outputs": []
    },
    {
      "cell_type": "markdown",
      "source": [
        "#### Appendix A.2.3 Model Performance"
      ],
      "metadata": {
        "id": "B_vR--TuUtN4"
      }
    },
    {
      "cell_type": "code",
      "source": [
        "print()"
      ],
      "metadata": {
        "id": "8IAuv0XlfVQp"
      },
      "execution_count": null,
      "outputs": []
    },
    {
      "cell_type": "code",
      "source": [
        "# 주가 예측 시각화\n",
        "plt.plot(df[df['Date'] > '31-08-2023']['Close'], label='Actual Prices', c='b')  # 'Actual Prices'라는 레이블과 함께 파란색으로 실제 주가 데이터를 그림\n",
        "plt.plot(df['PredictedPrices'], label='GMM-HMM Prices', c='r')  # 'GMM-HMM Prices'라는 레이블과 함께 빨간색으로 GMM-HMM 모델로 예측한 주가 데이터를 그림\n",
        "plt.title('Stock Price Prediction with GMM-HMM')  # 그래프 제목\n",
        "plt.ylabel('Prices')  # y축 레이블\n",
        "plt.legend()  # 두 레이블('Actual Prices'와 'GMM-HMM Prices')이 그래프에 범례로 표시됨\n",
        "plt.show()  # 그래프를 화면에 출력\n",
        "\n",
        "# NaN이 아닌 값들에서 'Close', 'PredictedPrices' 열의 값을 리스트 형태로 변환\n",
        "y_true = df[~np.isnan(df['PredictedPrices'])]['Close'].tolist()  # 실제 주가\n",
        "y_pred = df[~np.isnan(df['PredictedPrices'])]['PredictedPrices'].tolist()  # GMM-HMM 모델로 예측한 주가\n",
        "\n",
        "# 평균 절대 백분율 오차(Mean Absolute Percentage Error) 계산\n",
        "print('MAE%: ', metrics.mean_absolute_percentage_error(y_true, y_pred))\n"
      ],
      "metadata": {
        "id": "4_VYSrhS_U7E"
      },
      "execution_count": null,
      "outputs": []
    },
    {
      "cell_type": "code",
      "source": [
        "df0 = df[df.State == 0]"
      ],
      "metadata": {
        "id": "K630qGXwrWzd"
      },
      "execution_count": null,
      "outputs": []
    },
    {
      "cell_type": "code",
      "source": [
        "df0 = df[df.State == 0]\n",
        "df1 = df[df.State == 1]\n",
        "df2 = df[df.State == 2]"
      ],
      "metadata": {
        "id": "SbQwx5Scr8jk"
      },
      "execution_count": null,
      "outputs": []
    },
    {
      "cell_type": "code",
      "source": [],
      "metadata": {
        "id": "v0_Fr-6esDLQ"
      },
      "execution_count": null,
      "outputs": []
    },
    {
      "cell_type": "code",
      "source": [
        "import matplotlib.pyplot as plt\n",
        "\n",
        "bins = 50\n",
        "\n",
        "edgecolor = 'black'\n",
        "\n",
        "plt.hist(df0['Close'], bins=bins, edgecolor=edgecolor, alpha=0.5, label='df0')\n",
        "plt.hist(df1['Close'], bins=bins, edgecolor=edgecolor, alpha=0.5, label='df1')\n",
        "plt.hist(df2['Close'], bins=bins, edgecolor=edgecolor, alpha=0.5, label='df2')\n",
        "\n",
        "plt.xlabel('Stock Price')\n",
        "plt.ylabel('Frequency')\n",
        "\n",
        "plt.title('Close Prices Comparison')\n",
        "\n",
        "plt.xticks(rotation=45)\n",
        "\n",
        "plt.legend()\n",
        "\n",
        "plt.show()\n"
      ],
      "metadata": {
        "id": "xiooVnDdrXEn"
      },
      "execution_count": null,
      "outputs": []
    },
    {
      "cell_type": "code",
      "source": [
        "import matplotlib.pyplot as plt\n",
        "\n",
        "bins = 25\n",
        "\n",
        "edgecolor = 'black'\n",
        "\n",
        "fig, axs = plt.subplots(2, 2, figsize=(10, 8))\n",
        "\n",
        "axs[0, 0].hist(df0['Close'], bins=bins, edgecolor=edgecolor)\n",
        "axs[0, 0].set_title('df0 Close')\n",
        "axs[0, 0].set_xlabel('Stock Price')\n",
        "axs[0, 0].set_ylabel('Frequency')\n",
        "axs[0, 0].tick_params(axis='x', rotation=45)\n",
        "\n",
        "axs[0, 1].hist(df1['Close'], bins=bins, edgecolor=edgecolor)\n",
        "axs[0, 1].set_title('df1 Close')\n",
        "axs[0, 1].set_xlabel('Stock Price')\n",
        "axs[0, 1].set_ylabel('Frequency')\n",
        "axs[0, 1].tick_params(axis='x', rotation=45)\n",
        "\n",
        "axs[1, 0].hist(df2['Close'], bins=bins, edgecolor=edgecolor)\n",
        "axs[1, 0].set_title('df2 Close')\n",
        "axs[1, 0].set_xlabel('Stock Price')\n",
        "axs[1, 0].set_ylabel('Frequency')\n",
        "axs[1, 0].tick_params(axis='x', rotation=45)\n",
        "\n",
        "axs[1, 1].axis('off')\n",
        "\n",
        "plt.tight_layout()\n",
        "\n",
        "plt.show()\n"
      ],
      "metadata": {
        "id": "ocMAMEYrramW"
      },
      "execution_count": null,
      "outputs": []
    },
    {
      "cell_type": "code",
      "source": [],
      "metadata": {
        "id": "xA6CujtYtNRn"
      },
      "execution_count": null,
      "outputs": []
    }
  ]
}